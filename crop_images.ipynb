{
 "cells": [
  {
   "cell_type": "code",
   "execution_count": 8,
   "metadata": {},
   "outputs": [
    {
     "name": "stdout",
     "output_type": "stream",
     "text": [
      "The autoreload extension is already loaded. To reload it, use:\n",
      "  %reload_ext autoreload\n"
     ]
    }
   ],
   "source": [
    "%load_ext autoreload\n",
    "%autoreload 2"
   ]
  },
  {
   "cell_type": "code",
   "execution_count": 9,
   "metadata": {},
   "outputs": [],
   "source": [
    "from osautils.image import read_image_from_path, crop_image_from_xcycwh, save_image_by_suffix\n",
    "from osautils.file_system import find_files_by_suffix, get_filename_without_suffix\n",
    "from pathlib import Path\n",
    "import cv2 as cv\n",
    "from PIL import Image\n",
    "from tqdm import tqdm"
   ]
  },
  {
   "cell_type": "code",
   "execution_count": 10,
   "metadata": {},
   "outputs": [],
   "source": [
    "images_dir_path = Path(\"/mnt/d/dataset/date_and_stamp/images\")\n",
    "labels_dir_path = Path(\"/mnt/d/dataset/date_and_stamp/labels\")\n",
    "images_paths = find_files_by_suffix(images_dir_path, \"jpg\")\n",
    "labels_paths = find_files_by_suffix(labels_dir_path, \"txt\")"
   ]
  },
  {
   "cell_type": "code",
   "execution_count": 11,
   "metadata": {},
   "outputs": [
    {
     "data": {
      "text/plain": [
       "1157"
      ]
     },
     "execution_count": 11,
     "metadata": {},
     "output_type": "execute_result"
    }
   ],
   "source": [
    "len(images_paths)"
   ]
  },
  {
   "cell_type": "code",
   "execution_count": 12,
   "metadata": {},
   "outputs": [
    {
     "data": {
      "text/plain": [
       "3109"
      ]
     },
     "execution_count": 12,
     "metadata": {},
     "output_type": "execute_result"
    }
   ],
   "source": [
    "all_detection = 0\n",
    "for c in range(len(images_paths)):\n",
    "    with open(labels_paths[c], \"r\") as f:\n",
    "        labels = f.readlines()\n",
    "    all_detection += len(labels)\n",
    "all_detection"
   ]
  },
  {
   "cell_type": "code",
   "execution_count": 14,
   "metadata": {},
   "outputs": [
    {
     "name": "stderr",
     "output_type": "stream",
     "text": [
      "100%|██████████| 1157/1157 [05:08<00:00,  3.75it/s]\n"
     ]
    }
   ],
   "source": [
    "for image_number in tqdm(range(len(images_paths))):\n",
    "    with open(labels_paths[image_number], \"r\") as f:\n",
    "        labels = f.readlines()\n",
    "    for i in range(len(labels)):\n",
    "        image_name = get_filename_without_suffix(images_paths[image_number])\n",
    "        image = read_image_from_path(images_paths[image_number])\n",
    "        image_height, image_width = image.shape[:2]\n",
    "        label = int(labels[i].strip().split()[0])\n",
    "        coordinates = labels[i].strip().split()[1:]\n",
    "        xc = int(float(coordinates[0]) * image_width)\n",
    "        yc = int(float(coordinates[1]) * image_height)\n",
    "        w = int(float(coordinates[2]) * image_width)\n",
    "        h = int(float(coordinates[3]) * image_height)\n",
    "        if label == 0:\n",
    "            cropped_image = crop_image_from_xcycwh(image, xc, yc, w, h)\n",
    "            save_path = Path(\"/mnt/d/dataset/date_and_stamp/cropped/stamp\")\n",
    "            save_image_by_suffix(cropped_image, save_path, image_name+str(i), \"jpg\")\n",
    "        elif label == 1:\n",
    "            cropped_image = crop_image_from_xcycwh(image, xc, yc, w, h)\n",
    "            save_path = Path(\"/mnt/d/dataset/date_and_stamp/cropped/date\")\n",
    "            save_image_by_suffix(cropped_image, save_path, image_name+str(i), \"jpg\")\n"
   ]
  },
  {
   "cell_type": "code",
   "execution_count": null,
   "metadata": {},
   "outputs": [],
   "source": []
  }
 ],
 "metadata": {
  "kernelspec": {
   "display_name": "Python 3.9.13 ('osa')",
   "language": "python",
   "name": "python3"
  },
  "language_info": {
   "codemirror_mode": {
    "name": "ipython",
    "version": 3
   },
   "file_extension": ".py",
   "mimetype": "text/x-python",
   "name": "python",
   "nbconvert_exporter": "python",
   "pygments_lexer": "ipython3",
   "version": "3.9.13"
  },
  "orig_nbformat": 4,
  "vscode": {
   "interpreter": {
    "hash": "efa2b8e7bd0d3443f1df6050e038077013a865e2cd27358b4e38a500de63c6b2"
   }
  }
 },
 "nbformat": 4,
 "nbformat_minor": 2
}
