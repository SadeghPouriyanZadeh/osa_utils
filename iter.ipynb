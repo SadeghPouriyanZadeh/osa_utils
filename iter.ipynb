{
 "cells": [
  {
   "cell_type": "code",
   "execution_count": 49,
   "metadata": {},
   "outputs": [],
   "source": [
    "class MyIterator:\n",
    "    def __init__(self):\n",
    "        self.index = 0\n",
    "    \n",
    "    \n",
    "    def __next__(self):\n",
    "        print('MyIterator next')\n",
    "        if self.index>10:\n",
    "            raise StopIteration()\n",
    "        else:\n",
    "            self.index += 1\n",
    "            return self.index\n",
    "    \n",
    "    # def __iter__(self):\n",
    "    #     return self\n",
    "\n",
    "\n",
    "class MyClass:\n",
    "    def __iter__(self): \n",
    "        print('MyClass iter')\n",
    "        return MyIterator()\n",
    "\n",
    "my_object = MyClass()"
   ]
  },
  {
   "cell_type": "code",
   "execution_count": 50,
   "metadata": {},
   "outputs": [],
   "source": [
    "the_object = MyIterator()"
   ]
  },
  {
   "cell_type": "code",
   "execution_count": 52,
   "metadata": {},
   "outputs": [
    {
     "ename": "TypeError",
     "evalue": "'MyIterator' object is not iterable",
     "output_type": "error",
     "traceback": [
      "\u001b[1;31m---------------------------------------------------------------------------\u001b[0m",
      "\u001b[1;31mTypeError\u001b[0m                                 Traceback (most recent call last)",
      "\u001b[1;32mc:\\Users\\Sadegh\\Desktop\\python tutorials\\iter.ipynb Cell 3'\u001b[0m in \u001b[0;36m<cell line: 1>\u001b[1;34m()\u001b[0m\n\u001b[1;32m----> <a href='vscode-notebook-cell:/c%3A/Users/Sadegh/Desktop/python%20tutorials/iter.ipynb#ch0000008?line=0'>1</a>\u001b[0m \u001b[39miter\u001b[39;49m(the_object)\n",
      "\u001b[1;31mTypeError\u001b[0m: 'MyIterator' object is not iterable"
     ]
    }
   ],
   "source": [
    "iter(the_object)"
   ]
  },
  {
   "cell_type": "code",
   "execution_count": 21,
   "metadata": {},
   "outputs": [
    {
     "name": "stdout",
     "output_type": "stream",
     "text": [
      "MyClass iter\n"
     ]
    },
    {
     "data": {
      "text/plain": [
       "<__main__.MyIterator at 0x21b81696790>"
      ]
     },
     "execution_count": 21,
     "metadata": {},
     "output_type": "execute_result"
    }
   ],
   "source": [
    "iter(my_object)"
   ]
  },
  {
   "cell_type": "code",
   "execution_count": 55,
   "metadata": {},
   "outputs": [
    {
     "ename": "TypeError",
     "evalue": "'MyIterator' object is not iterable",
     "output_type": "error",
     "traceback": [
      "\u001b[1;31m---------------------------------------------------------------------------\u001b[0m",
      "\u001b[1;31mTypeError\u001b[0m                                 Traceback (most recent call last)",
      "\u001b[1;32mc:\\Users\\Sadegh\\Desktop\\python tutorials\\iter.ipynb Cell 5'\u001b[0m in \u001b[0;36m<cell line: 1>\u001b[1;34m()\u001b[0m\n\u001b[1;32m----> <a href='vscode-notebook-cell:/c%3A/Users/Sadegh/Desktop/python%20tutorials/iter.ipynb#ch0000005?line=0'>1</a>\u001b[0m iterator \u001b[39m=\u001b[39m \u001b[39miter\u001b[39;49m(the_object)\n\u001b[0;32m      <a href='vscode-notebook-cell:/c%3A/Users/Sadegh/Desktop/python%20tutorials/iter.ipynb#ch0000005?line=1'>2</a>\u001b[0m \u001b[39mwhile\u001b[39;00m \u001b[39mTrue\u001b[39;00m:\n\u001b[0;32m      <a href='vscode-notebook-cell:/c%3A/Users/Sadegh/Desktop/python%20tutorials/iter.ipynb#ch0000005?line=2'>3</a>\u001b[0m     \u001b[39mtry\u001b[39;00m:\n",
      "\u001b[1;31mTypeError\u001b[0m: 'MyIterator' object is not iterable"
     ]
    }
   ],
   "source": [
    "iterator = iter(the_object)\n",
    "while True:\n",
    "    try:\n",
    "        i = next(iterator)\n",
    "        print(i)\n",
    "    except StopIteration as exception:\n",
    "        break"
   ]
  },
  {
   "cell_type": "code",
   "execution_count": 54,
   "metadata": {},
   "outputs": [
    {
     "ename": "TypeError",
     "evalue": "'MyIterator' object is not iterable",
     "output_type": "error",
     "traceback": [
      "\u001b[1;31m---------------------------------------------------------------------------\u001b[0m",
      "\u001b[1;31mTypeError\u001b[0m                                 Traceback (most recent call last)",
      "\u001b[1;32mc:\\Users\\Sadegh\\Desktop\\python tutorials\\iter.ipynb Cell 6'\u001b[0m in \u001b[0;36m<cell line: 1>\u001b[1;34m()\u001b[0m\n\u001b[1;32m----> <a href='vscode-notebook-cell:/c%3A/Users/Sadegh/Desktop/python%20tutorials/iter.ipynb#ch0000002?line=0'>1</a>\u001b[0m \u001b[39mfor\u001b[39;00m i \u001b[39min\u001b[39;00m the_object:\n\u001b[0;32m      <a href='vscode-notebook-cell:/c%3A/Users/Sadegh/Desktop/python%20tutorials/iter.ipynb#ch0000002?line=1'>2</a>\u001b[0m     \u001b[39mprint\u001b[39m(i)\n",
      "\u001b[1;31mTypeError\u001b[0m: 'MyIterator' object is not iterable"
     ]
    }
   ],
   "source": [
    "for i in the_object:\n",
    "    print(i)"
   ]
  },
  {
   "cell_type": "code",
   "execution_count": 56,
   "metadata": {},
   "outputs": [],
   "source": [
    "my_list = [1,2,3,4]"
   ]
  },
  {
   "cell_type": "code",
   "execution_count": 58,
   "metadata": {},
   "outputs": [
    {
     "ename": "TypeError",
     "evalue": "'list' object is not an iterator",
     "output_type": "error",
     "traceback": [
      "\u001b[1;31m---------------------------------------------------------------------------\u001b[0m",
      "\u001b[1;31mTypeError\u001b[0m                                 Traceback (most recent call last)",
      "\u001b[1;32mc:\\Users\\Sadegh\\Desktop\\python tutorials\\iter.ipynb Cell 8'\u001b[0m in \u001b[0;36m<cell line: 1>\u001b[1;34m()\u001b[0m\n\u001b[1;32m----> <a href='vscode-notebook-cell:/c%3A/Users/Sadegh/Desktop/python%20tutorials/iter.ipynb#ch0000001?line=0'>1</a>\u001b[0m \u001b[39mnext\u001b[39;49m(my_list)\n",
      "\u001b[1;31mTypeError\u001b[0m: 'list' object is not an iterator"
     ]
    }
   ],
   "source": [
    "next(my_list)"
   ]
  },
  {
   "cell_type": "code",
   "execution_count": 59,
   "metadata": {},
   "outputs": [],
   "source": [
    "def my_gen():\n",
    "    yield 0"
   ]
  },
  {
   "cell_type": "code",
   "execution_count": 60,
   "metadata": {},
   "outputs": [],
   "source": [
    "gen = my_gen()"
   ]
  },
  {
   "cell_type": "code",
   "execution_count": 63,
   "metadata": {},
   "outputs": [
    {
     "ename": "StopIteration",
     "evalue": "",
     "output_type": "error",
     "traceback": [
      "\u001b[1;31m---------------------------------------------------------------------------\u001b[0m",
      "\u001b[1;31mStopIteration\u001b[0m                             Traceback (most recent call last)",
      "\u001b[1;32mc:\\Users\\Sadegh\\Desktop\\python tutorials\\iter.ipynb Cell 11'\u001b[0m in \u001b[0;36m<cell line: 1>\u001b[1;34m()\u001b[0m\n\u001b[1;32m----> <a href='vscode-notebook-cell:/c%3A/Users/Sadegh/Desktop/python%20tutorials/iter.ipynb#ch0000011?line=0'>1</a>\u001b[0m \u001b[39mnext\u001b[39;49m(gen)\n",
      "\u001b[1;31mStopIteration\u001b[0m: "
     ]
    }
   ],
   "source": [
    "next(gen)"
   ]
  },
  {
   "cell_type": "code",
   "execution_count": 128,
   "metadata": {},
   "outputs": [],
   "source": [
    "class MyGen:\n",
    "    def __init__(self):\n",
    "        self.counter = 0\n",
    "\n",
    "    def __iter__(self):\n",
    "        return self\n",
    "    \n",
    "    def __next__(self):\n",
    "        if self.counter>0:\n",
    "            raise StopIteration()\n",
    "        else:\n",
    "            self.counter += 1\n",
    "            return 0"
   ]
  },
  {
   "cell_type": "code",
   "execution_count": 129,
   "metadata": {},
   "outputs": [],
   "source": [
    "gen = MyGen()\n"
   ]
  },
  {
   "cell_type": "code",
   "execution_count": 130,
   "metadata": {},
   "outputs": [
    {
     "data": {
      "text/plain": [
       "<__main__.MyGen at 0x21b816973a0>"
      ]
     },
     "execution_count": 130,
     "metadata": {},
     "output_type": "execute_result"
    }
   ],
   "source": [
    "iter(gen)"
   ]
  },
  {
   "cell_type": "code",
   "execution_count": 132,
   "metadata": {},
   "outputs": [
    {
     "ename": "StopIteration",
     "evalue": "",
     "output_type": "error",
     "traceback": [
      "\u001b[1;31m---------------------------------------------------------------------------\u001b[0m",
      "\u001b[1;31mStopIteration\u001b[0m                             Traceback (most recent call last)",
      "\u001b[1;32mc:\\Users\\Sadegh\\Desktop\\python tutorials\\iter.ipynb Cell 15'\u001b[0m in \u001b[0;36m<cell line: 1>\u001b[1;34m()\u001b[0m\n\u001b[1;32m----> <a href='vscode-notebook-cell:/c%3A/Users/Sadegh/Desktop/python%20tutorials/iter.ipynb#ch0000015?line=0'>1</a>\u001b[0m \u001b[39mnext\u001b[39;49m(gen)\n",
      "\u001b[1;32mc:\\Users\\Sadegh\\Desktop\\python tutorials\\iter.ipynb Cell 12'\u001b[0m in \u001b[0;36mMyGen.__next__\u001b[1;34m(self)\u001b[0m\n\u001b[0;32m      <a href='vscode-notebook-cell:/c%3A/Users/Sadegh/Desktop/python%20tutorials/iter.ipynb#ch0000012?line=7'>8</a>\u001b[0m \u001b[39mdef\u001b[39;00m \u001b[39m__next__\u001b[39m(\u001b[39mself\u001b[39m):\n\u001b[0;32m      <a href='vscode-notebook-cell:/c%3A/Users/Sadegh/Desktop/python%20tutorials/iter.ipynb#ch0000012?line=8'>9</a>\u001b[0m     \u001b[39mif\u001b[39;00m \u001b[39mself\u001b[39m\u001b[39m.\u001b[39mcounter\u001b[39m>\u001b[39m\u001b[39m0\u001b[39m:\n\u001b[1;32m---> <a href='vscode-notebook-cell:/c%3A/Users/Sadegh/Desktop/python%20tutorials/iter.ipynb#ch0000012?line=9'>10</a>\u001b[0m         \u001b[39mraise\u001b[39;00m \u001b[39mStopIteration\u001b[39;00m()\n\u001b[0;32m     <a href='vscode-notebook-cell:/c%3A/Users/Sadegh/Desktop/python%20tutorials/iter.ipynb#ch0000012?line=10'>11</a>\u001b[0m     \u001b[39melse\u001b[39;00m:\n\u001b[0;32m     <a href='vscode-notebook-cell:/c%3A/Users/Sadegh/Desktop/python%20tutorials/iter.ipynb#ch0000012?line=11'>12</a>\u001b[0m         \u001b[39mself\u001b[39m\u001b[39m.\u001b[39mcounter \u001b[39m+\u001b[39m\u001b[39m=\u001b[39m \u001b[39m1\u001b[39m\n",
      "\u001b[1;31mStopIteration\u001b[0m: "
     ]
    }
   ],
   "source": [
    "next(gen)"
   ]
  },
  {
   "cell_type": "code",
   "execution_count": 185,
   "metadata": {},
   "outputs": [],
   "source": [
    "class ForLoop:\n",
    "    def __init__(self):\n",
    "        self.length = 3\n",
    "    pass\n",
    "    # def __iter__(self):\n",
    "    #     print('iter')\n",
    "    #     return iter([1,2,3])\n",
    "    def __getitem__(self, index):\n",
    "        print('getitem')\n",
    "        if index < self.length:\n",
    "            return index\n",
    "        else:\n",
    "            raise IndexError()"
   ]
  },
  {
   "cell_type": "code",
   "execution_count": 187,
   "metadata": {},
   "outputs": [],
   "source": [
    "l = iter(ForLoop())\n"
   ]
  },
  {
   "cell_type": "code",
   "execution_count": 192,
   "metadata": {},
   "outputs": [
    {
     "name": "stdout",
     "output_type": "stream",
     "text": [
      "getitem\n"
     ]
    },
    {
     "ename": "StopIteration",
     "evalue": "",
     "output_type": "error",
     "traceback": [
      "\u001b[1;31m---------------------------------------------------------------------------\u001b[0m",
      "\u001b[1;31mStopIteration\u001b[0m                             Traceback (most recent call last)",
      "\u001b[1;32mc:\\Users\\Sadegh\\Desktop\\python tutorials\\iter.ipynb Cell 18'\u001b[0m in \u001b[0;36m<cell line: 1>\u001b[1;34m()\u001b[0m\n\u001b[1;32m----> <a href='vscode-notebook-cell:/c%3A/Users/Sadegh/Desktop/python%20tutorials/iter.ipynb#ch0000035?line=0'>1</a>\u001b[0m \u001b[39mnext\u001b[39;49m(l)\n",
      "\u001b[1;31mStopIteration\u001b[0m: "
     ]
    }
   ],
   "source": [
    "next(l)"
   ]
  },
  {
   "cell_type": "code",
   "execution_count": 164,
   "metadata": {},
   "outputs": [
    {
     "ename": "TypeError",
     "evalue": "'ForLoop' object is not subscriptable",
     "output_type": "error",
     "traceback": [
      "\u001b[1;31m---------------------------------------------------------------------------\u001b[0m",
      "\u001b[1;31mTypeError\u001b[0m                                 Traceback (most recent call last)",
      "\u001b[1;32mc:\\Users\\Sadegh\\Desktop\\python tutorials\\iter.ipynb Cell 17'\u001b[0m in \u001b[0;36m<cell line: 1>\u001b[1;34m()\u001b[0m\n\u001b[1;32m----> <a href='vscode-notebook-cell:/c%3A/Users/Sadegh/Desktop/python%20tutorials/iter.ipynb#ch0000025?line=0'>1</a>\u001b[0m o[\u001b[39m0\u001b[39;49m]\n",
      "\u001b[1;31mTypeError\u001b[0m: 'ForLoop' object is not subscriptable"
     ]
    }
   ],
   "source": [
    "o[0]"
   ]
  },
  {
   "cell_type": "code",
   "execution_count": 163,
   "metadata": {},
   "outputs": [
    {
     "ename": "TypeError",
     "evalue": "'ForLoop' object is not iterable",
     "output_type": "error",
     "traceback": [
      "\u001b[1;31m---------------------------------------------------------------------------\u001b[0m",
      "\u001b[1;31mTypeError\u001b[0m                                 Traceback (most recent call last)",
      "\u001b[1;32mc:\\Users\\Sadegh\\Desktop\\python tutorials\\iter.ipynb Cell 17'\u001b[0m in \u001b[0;36m<cell line: 2>\u001b[1;34m()\u001b[0m\n\u001b[0;32m      <a href='vscode-notebook-cell:/c%3A/Users/Sadegh/Desktop/python%20tutorials/iter.ipynb#ch0000017?line=0'>1</a>\u001b[0m o \u001b[39m=\u001b[39m ForLoop()\n\u001b[1;32m----> <a href='vscode-notebook-cell:/c%3A/Users/Sadegh/Desktop/python%20tutorials/iter.ipynb#ch0000017?line=1'>2</a>\u001b[0m k \u001b[39m=\u001b[39m \u001b[39miter\u001b[39;49m(o)\n",
      "\u001b[1;31mTypeError\u001b[0m: 'ForLoop' object is not iterable"
     ]
    }
   ],
   "source": [
    "o = ForLoop()\n",
    "k = iter(o)"
   ]
  },
  {
   "cell_type": "code",
   "execution_count": 178,
   "metadata": {},
   "outputs": [],
   "source": [
    "# iter(o)\n",
    "class Iterator:\n",
    "    def __init__(self, obj):\n",
    "        self.obj = obj\n",
    "        self.index = 0\n",
    "    def __next__(self):\n",
    "        res = self.obj[self.index]\n",
    "        self.index += 1\n",
    "        return res\n"
   ]
  },
  {
   "cell_type": "code",
   "execution_count": 179,
   "metadata": {},
   "outputs": [],
   "source": [
    "p = Iterator([1, 2, 3])"
   ]
  },
  {
   "cell_type": "code",
   "execution_count": 180,
   "metadata": {},
   "outputs": [
    {
     "ename": "TypeError",
     "evalue": "'Iterator' object is not iterable",
     "output_type": "error",
     "traceback": [
      "\u001b[1;31m---------------------------------------------------------------------------\u001b[0m",
      "\u001b[1;31mTypeError\u001b[0m                                 Traceback (most recent call last)",
      "\u001b[1;32mc:\\Users\\Sadegh\\Desktop\\python tutorials\\iter.ipynb Cell 21'\u001b[0m in \u001b[0;36m<cell line: 1>\u001b[1;34m()\u001b[0m\n\u001b[1;32m----> <a href='vscode-notebook-cell:/c%3A/Users/Sadegh/Desktop/python%20tutorials/iter.ipynb#ch0000030?line=0'>1</a>\u001b[0m \u001b[39mfor\u001b[39;00m i \u001b[39min\u001b[39;00m p:\n\u001b[0;32m      <a href='vscode-notebook-cell:/c%3A/Users/Sadegh/Desktop/python%20tutorials/iter.ipynb#ch0000030?line=1'>2</a>\u001b[0m     \u001b[39mprint\u001b[39m(i)\n",
      "\u001b[1;31mTypeError\u001b[0m: 'Iterator' object is not iterable"
     ]
    }
   ],
   "source": [
    "for i in p:\n",
    "    print(i)"
   ]
  },
  {
   "cell_type": "code",
   "execution_count": null,
   "metadata": {},
   "outputs": [],
   "source": [
    "\n",
    "def my_iter(obj):\n",
    "    try:\n",
    "        iterator = obj.__iter__()\n",
    "        return iterator\n",
    "    except AttributeError:\n",
    "        try:\n",
    "            obj.__getitem__(0)\n",
    "            iterator = Iterator(obj)\n",
    "            return iterator\n",
    "        except TypeError:\n",
    "            raise TypeError(\"object is not iterable\")\n"
   ]
  },
  {
   "cell_type": "code",
   "execution_count": 167,
   "metadata": {},
   "outputs": [
    {
     "ename": "TypeError",
     "evalue": "object is not iterable",
     "output_type": "error",
     "traceback": [
      "\u001b[1;31m---------------------------------------------------------------------------\u001b[0m",
      "\u001b[1;31mAttributeError\u001b[0m                            Traceback (most recent call last)",
      "\u001b[1;32mc:\\Users\\Sadegh\\Desktop\\python tutorials\\iter.ipynb Cell 19'\u001b[0m in \u001b[0;36mmy_iter\u001b[1;34m(obj)\u001b[0m\n\u001b[0;32m      <a href='vscode-notebook-cell:/c%3A/Users/Sadegh/Desktop/python%20tutorials/iter.ipynb#ch0000023?line=2'>3</a>\u001b[0m \u001b[39mtry\u001b[39;00m:\n\u001b[1;32m----> <a href='vscode-notebook-cell:/c%3A/Users/Sadegh/Desktop/python%20tutorials/iter.ipynb#ch0000023?line=3'>4</a>\u001b[0m     iterator \u001b[39m=\u001b[39m obj\u001b[39m.\u001b[39;49m\u001b[39m__iter__\u001b[39;49m()\n\u001b[0;32m      <a href='vscode-notebook-cell:/c%3A/Users/Sadegh/Desktop/python%20tutorials/iter.ipynb#ch0000023?line=4'>5</a>\u001b[0m     \u001b[39mreturn\u001b[39;00m iterator\n",
      "\u001b[1;31mAttributeError\u001b[0m: 'ForLoop' object has no attribute '__iter__'",
      "\nDuring handling of the above exception, another exception occurred:\n",
      "\u001b[1;31mTypeError\u001b[0m                                 Traceback (most recent call last)",
      "\u001b[1;32mc:\\Users\\Sadegh\\Desktop\\python tutorials\\iter.ipynb Cell 19'\u001b[0m in \u001b[0;36mmy_iter\u001b[1;34m(obj)\u001b[0m\n\u001b[0;32m      <a href='vscode-notebook-cell:/c%3A/Users/Sadegh/Desktop/python%20tutorials/iter.ipynb#ch0000023?line=6'>7</a>\u001b[0m \u001b[39mtry\u001b[39;00m:\n\u001b[1;32m----> <a href='vscode-notebook-cell:/c%3A/Users/Sadegh/Desktop/python%20tutorials/iter.ipynb#ch0000023?line=7'>8</a>\u001b[0m     obj[\u001b[39m0\u001b[39;49m]\n\u001b[0;32m      <a href='vscode-notebook-cell:/c%3A/Users/Sadegh/Desktop/python%20tutorials/iter.ipynb#ch0000023?line=8'>9</a>\u001b[0m     \u001b[39mclass\u001b[39;00m \u001b[39mIterator\u001b[39;00m:\n",
      "\u001b[1;31mTypeError\u001b[0m: 'ForLoop' object is not subscriptable",
      "\nDuring handling of the above exception, another exception occurred:\n",
      "\u001b[1;31mTypeError\u001b[0m                                 Traceback (most recent call last)",
      "\u001b[1;32mc:\\Users\\Sadegh\\Desktop\\python tutorials\\iter.ipynb Cell 20'\u001b[0m in \u001b[0;36m<cell line: 1>\u001b[1;34m()\u001b[0m\n\u001b[1;32m----> <a href='vscode-notebook-cell:/c%3A/Users/Sadegh/Desktop/python%20tutorials/iter.ipynb#ch0000026?line=0'>1</a>\u001b[0m my_iter(o)\n",
      "\u001b[1;32mc:\\Users\\Sadegh\\Desktop\\python tutorials\\iter.ipynb Cell 19'\u001b[0m in \u001b[0;36mmy_iter\u001b[1;34m(obj)\u001b[0m\n\u001b[0;32m     <a href='vscode-notebook-cell:/c%3A/Users/Sadegh/Desktop/python%20tutorials/iter.ipynb#ch0000023?line=17'>18</a>\u001b[0m     \u001b[39mreturn\u001b[39;00m iterator\n\u001b[0;32m     <a href='vscode-notebook-cell:/c%3A/Users/Sadegh/Desktop/python%20tutorials/iter.ipynb#ch0000023?line=18'>19</a>\u001b[0m \u001b[39mexcept\u001b[39;00m \u001b[39mTypeError\u001b[39;00m:\n\u001b[1;32m---> <a href='vscode-notebook-cell:/c%3A/Users/Sadegh/Desktop/python%20tutorials/iter.ipynb#ch0000023?line=19'>20</a>\u001b[0m     \u001b[39mraise\u001b[39;00m \u001b[39mTypeError\u001b[39;00m(\u001b[39m\"\u001b[39m\u001b[39mobject is not iterable\u001b[39m\u001b[39m\"\u001b[39m)\n",
      "\u001b[1;31mTypeError\u001b[0m: object is not iterable"
     ]
    }
   ],
   "source": [
    "my_iter(o)"
   ]
  },
  {
   "cell_type": "code",
   "execution_count": 158,
   "metadata": {},
   "outputs": [
    {
     "name": "stdout",
     "output_type": "stream",
     "text": [
      "getitem\n",
      "0\n",
      "getitem\n",
      "1\n",
      "getitem\n",
      "2\n",
      "getitem\n",
      "3\n",
      "getitem\n",
      "4\n",
      "getitem\n",
      "5\n",
      "getitem\n",
      "6\n",
      "getitem\n",
      "7\n",
      "getitem\n",
      "8\n",
      "getitem\n",
      "9\n"
     ]
    }
   ],
   "source": [
    "for i in range(10):\n",
    "    print(o[i])"
   ]
  },
  {
   "cell_type": "code",
   "execution_count": 157,
   "metadata": {},
   "outputs": [
    {
     "name": "stdout",
     "output_type": "stream",
     "text": [
      "getitem\n"
     ]
    },
    {
     "data": {
      "text/plain": [
       "2"
      ]
     },
     "execution_count": 157,
     "metadata": {},
     "output_type": "execute_result"
    }
   ],
   "source": [
    "next(k)"
   ]
  },
  {
   "cell_type": "code",
   "execution_count": null,
   "metadata": {},
   "outputs": [],
   "source": [
    "\n",
    "for i in o:\n",
    "    print(i)"
   ]
  },
  {
   "cell_type": "code",
   "execution_count": 146,
   "metadata": {},
   "outputs": [
    {
     "name": "stdout",
     "output_type": "stream",
     "text": [
      "getitem\n"
     ]
    },
    {
     "data": {
      "text/plain": [
       "0"
      ]
     },
     "execution_count": 146,
     "metadata": {},
     "output_type": "execute_result"
    }
   ],
   "source": [
    "o[1]"
   ]
  },
  {
   "cell_type": "code",
   "execution_count": 193,
   "metadata": {},
   "outputs": [],
   "source": [
    "class MusicalNotes:\n",
    "    def __init__(self, octave):\n",
    "        self.notes = [\n",
    "            \"A\", \"B\", \"C\", \"D\", \"E\", \"F\", \"G\"\n",
    "        ]\n",
    "        self.octave = octave\n",
    "    def __getitem__(self,index):\n",
    "        note = self.notes[index]\n",
    "        return f\"{note}{self.octave}\"\n",
    "    "
   ]
  },
  {
   "cell_type": "code",
   "execution_count": 194,
   "metadata": {},
   "outputs": [],
   "source": [
    "notes = MusicalNotes(3)"
   ]
  },
  {
   "cell_type": "code",
   "execution_count": 195,
   "metadata": {},
   "outputs": [
    {
     "name": "stdout",
     "output_type": "stream",
     "text": [
      "A3\n",
      "B3\n",
      "C3\n",
      "D3\n",
      "E3\n",
      "F3\n",
      "G3\n"
     ]
    }
   ],
   "source": [
    "for i in notes:\n",
    "    print(i)"
   ]
  },
  {
   "cell_type": "code",
   "execution_count": null,
   "metadata": {},
   "outputs": [],
   "source": []
  }
 ],
 "metadata": {
  "interpreter": {
   "hash": "638fe17f91e435f01d1a7ff524a76dcee29f90ac497fc538e4e75e531dac8df9"
  },
  "kernelspec": {
   "display_name": "Python 3.9.12 ('ml')",
   "language": "python",
   "name": "python3"
  },
  "language_info": {
   "codemirror_mode": {
    "name": "ipython",
    "version": 3
   },
   "file_extension": ".py",
   "mimetype": "text/x-python",
   "name": "python",
   "nbconvert_exporter": "python",
   "pygments_lexer": "ipython3",
   "version": "3.9.12"
  },
  "orig_nbformat": 4
 },
 "nbformat": 4,
 "nbformat_minor": 2
}
